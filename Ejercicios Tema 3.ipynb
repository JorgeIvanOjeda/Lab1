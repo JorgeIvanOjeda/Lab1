{
 "cells": [
  {
   "cell_type": "markdown",
   "id": "17396bb6",
   "metadata": {},
   "source": [
    "# Tema 3: Evaluación de algortimos de clasificación\n",
    "## Cuaderno de ejercicios\n",
    "\n",
    "**Ejercicio 1**\n",
    "\n",
    "Supongamos que hemos utilizado un clasificador, por ejemplo, Naive Bayes, para clasificar documentos con respecto al sentimiento. Las clases son Pos (positivo), Neg (negativo) y Neu (neutro). Probamos nuestro clasificador en 10 documentos para los que conocemos su _gold standar_ (clase real). La prueba tiene los siguientes resultados:\n",
    "\n",
    "| Documento | Clase Real | Clase predicha |\n",
    "| ------------- | ------------- | ------------- |\n",
    "| d1  | Pos  | Pos |\n",
    "| d2  | Pos  | Pos |\n",
    "| d3  | Pos  | Pos |\n",
    "| d4  | Pos  | Neu |\n",
    "| d5  | Neg  | Neg |\n",
    "| d6  | Neg  | Neu |\n",
    "| d7  | Neg  | Neg |\n",
    "| d8  | Neu  | Pos |\n",
    "| d9  | Neu  | Neu |\n",
    "| d10  | Neu  | Neu |\n",
    "\n",
    "Calcular: precision, recall, accuracy y F1 para estos resultados de clasificación para las tres clases.\n"
   ]
  },
  {
   "cell_type": "markdown",
   "id": "3edd69d7",
   "metadata": {},
   "source": [
    "**Ejercicio 2**\n",
    "\n",
    "Se evaluó un clasificador binario utilizando un conjunto de 1000 ejemplos de prueba (test) en los que el 50 % de todos los ejemplos son negativos. El clasificador tiene 60 % de sensitivity y 70 % de accuracy. Escribe la matriz de confusión."
   ]
  },
  {
   "cell_type": "markdown",
   "id": "d08a8b66",
   "metadata": {},
   "source": [
    "**Ejercicio 3**\n",
    "\n",
    "Utilizando la matriz de confusión creada en el ejercicio anterior, calcula la precisión del clasificador, la medida F1 y\n",
    "especificidad."
   ]
  },
  {
   "cell_type": "markdown",
   "id": "51ef99c7",
   "metadata": {},
   "source": [
    "# Solucion Ejercicio 1"
   ]
  },
  {
   "cell_type": "markdown",
   "id": "f6200ad1",
   "metadata": {},
   "source": [
    "## Cargamos la librerias y creamos con la data del ejercicio los valores reales y predichos"
   ]
  },
  {
   "cell_type": "code",
   "execution_count": 93,
   "id": "662a186c",
   "metadata": {},
   "outputs": [],
   "source": [
    "import numpy as np\n",
    "from sklearn.metrics import confusion_matrix\n",
    "\n",
    "y_ver=np.array([\"Pos\", \"Pos\", \"Pos\", \"Pos\", \"Neg\", \"Neg\", \"Neg\", \"Neu\", \"Neu\", \"Neu\"])\n",
    "y_pre=np.array([\"Pos\", \"Pos\", \"Pos\", \"Neu\", \"Neg\", \"Neu\", \"Neg\", \"Pos\", \"Neu\", \"Neu\"])"
   ]
  },
  {
   "cell_type": "markdown",
   "id": "16aec776",
   "metadata": {},
   "source": [
    "### Calculamos la matriz de confusion"
   ]
  },
  {
   "cell_type": "code",
   "execution_count": 124,
   "id": "ec7260a5",
   "metadata": {},
   "outputs": [
    {
     "data": {
      "text/plain": [
       "array([[2, 1, 0],\n",
       "       [0, 2, 1],\n",
       "       [0, 1, 3]], dtype=int64)"
      ]
     },
     "execution_count": 124,
     "metadata": {},
     "output_type": "execute_result"
    }
   ],
   "source": [
    "mc = confusion_matrix(y_ver, y_pre)\n",
    "mc"
   ]
  },
  {
   "cell_type": "markdown",
   "id": "17f49e97",
   "metadata": {},
   "source": [
    "### Cargamos las librerias de visualizacion"
   ]
  },
  {
   "cell_type": "code",
   "execution_count": 125,
   "id": "0806d483",
   "metadata": {},
   "outputs": [],
   "source": [
    "import pandas as pd\n",
    "import seaborn as sns\n",
    "import matplotlib.pyplot as plt"
   ]
  },
  {
   "cell_type": "code",
   "execution_count": 126,
   "id": "13b00c2b",
   "metadata": {},
   "outputs": [
    {
     "data": {
      "image/png": "[encoded data removed]",
      "text/plain": [
       "<Figure size 640x480 with 2 Axes>"
      ]
     },
     "metadata": {},
     "output_type": "display_data"
    }
   ],
   "source": [
    "sns.heatmap(mc,cmap='Set3',xticklabels=['Neg', 'Neu', 'Pos'], yticklabels=['Neg', 'Neu', 'Pos'], annot=True, cbar_kws={'label':\"Barra de colores\"})\n",
    "plt.xlabel('Valores Predichos')\n",
    "plt.ylabel('Valores Reales')\n",
    "plt.title('Matriz de Confusión')\n",
    "plt.show()"
   ]
  },
  {
   "cell_type": "markdown",
   "id": "82f61e90",
   "metadata": {},
   "source": [
    "### Calculo de la accuracy\n",
    "#### Importamos la funcion para el calculo del accuracy"
   ]
  },
  {
   "cell_type": "code",
   "execution_count": 127,
   "id": "5dcec042",
   "metadata": {},
   "outputs": [
    {
     "data": {
      "text/plain": [
       "0.7"
      ]
     },
     "execution_count": 127,
     "metadata": {},
     "output_type": "execute_result"
    }
   ],
   "source": [
    "from sklearn.metrics import accuracy_score\n",
    "accuracy=accuracy_score(y_ver,y_pre)\n",
    "accuracy"
   ]
  },
  {
   "cell_type": "markdown",
   "id": "ac4df7b5",
   "metadata": {},
   "source": [
    "### Calculo del recall"
   ]
  },
  {
   "cell_type": "code",
   "execution_count": 128,
   "id": "5a3dea6d",
   "metadata": {},
   "outputs": [
    {
     "name": "stdout",
     "output_type": "stream",
     "text": [
      "Recall positivo 0.75\n",
      "Recall negativo 0.6666666666666666\n",
      "Recall neutro 0.6666666666666666\n"
     ]
    }
   ],
   "source": [
    "from sklearn.metrics import recall_score\n",
    "recall_pos=recall_score(y_ver,y_pre, average='weighted', labels=['Pos'])\n",
    "recall_neg=recall_score(y_ver,y_pre, average='weighted', labels=['Neg'])\n",
    "recall_neu=recall_score(y_ver,y_pre, average='weighted', labels=['Neu'])\n",
    "print('Recall positivo',recall_pos)\n",
    "print('Recall negativo',recall_neg)\n",
    "print('Recall neutro',recall_neu)"
   ]
  },
  {
   "cell_type": "markdown",
   "id": "c2d41f6f",
   "metadata": {},
   "source": [
    "### Calculo de la precisión"
   ]
  },
  {
   "cell_type": "code",
   "execution_count": 129,
   "id": "10a3c597",
   "metadata": {},
   "outputs": [
    {
     "name": "stdout",
     "output_type": "stream",
     "text": [
      "precisión positiva:  0.75\n",
      "precisión negativa:  1.0\n",
      "precisión neutra:  0.5\n"
     ]
    }
   ],
   "source": [
    "from sklearn.metrics import precision_score\n",
    "prec_pos=precision_score(y_ver,y_pre, average='weighted', labels=['Pos'])\n",
    "prec_neg=precision_score(y_ver,y_pre, average='weighted', labels=['Neg'])\n",
    "prec_neu=precision_score(y_ver,y_pre, average='weighted', labels=['Neu'])\n",
    "print('precisión positiva: ',prec_pos)\n",
    "print('precisión negativa: ',prec_neg)\n",
    "print('precisión neutra: ',prec_neu)"
   ]
  },
  {
   "cell_type": "markdown",
   "id": "3c7bb257",
   "metadata": {},
   "source": [
    "### Calculo del F1"
   ]
  },
  {
   "cell_type": "code",
   "execution_count": 130,
   "id": "adf021d9",
   "metadata": {},
   "outputs": [
    {
     "name": "stdout",
     "output_type": "stream",
     "text": [
      "Valor de F1 positivo 0.75\n",
      "Valor de F1 negativo 0.8000000000000002\n",
      "Valor de F1 neutro 0.5714285714285715\n"
     ]
    }
   ],
   "source": [
    "from sklearn.metrics import f1_score\n",
    "f1_pos = f1_score(y_ver,y_pre,average='weighted',labels=['Pos'])\n",
    "f1_neg = f1_score(y_ver,y_pre,average='weighted',labels=['Neg'])\n",
    "f1_neu = f1_score(y_ver,y_pre,average='weighted',labels=['Neu'])\n",
    "print('Valor de F1 positivo',f1_pos)\n",
    "print('Valor de F1 negativo',f1_neg)\n",
    "print('Valor de F1 neutro',f1_neu)"
   ]
  },
  {
   "cell_type": "markdown",
   "id": "f07a4361",
   "metadata": {},
   "source": [
    "# Solucion del ejercicio 2"
   ]
  },
  {
   "cell_type": "markdown",
   "id": "1b141525",
   "metadata": {},
   "source": [
    "Se evaluó un clasificador binario utilizando un conjunto de 1000 ejemplos de prueba (test) en los que el 50 % de todos los ejemplos son negativos. El clasificador tiene 60 % de sensitivity y 70 % de accuracy. Escribe la matriz de confusión."
   ]
  },
  {
   "cell_type": "markdown",
   "id": "12cbefbe",
   "metadata": {},
   "source": [
    "Formula de Accuracy:"
   ]
  },
  {
   "cell_type": "markdown",
   "id": "2c1526cf",
   "metadata": {},
   "source": [
    "$$Accuracy =\\frac{(TP+TN)}{TP+TN+FN+FP}$$"
   ]
  },
  {
   "cell_type": "markdown",
   "id": "aa05d93b",
   "metadata": {},
   "source": [
    "Formula de Sensivility:"
   ]
  },
  {
   "cell_type": "markdown",
   "id": "b61d8413",
   "metadata": {},
   "source": [
    "$$Sensivility =\\frac{TP}{TP+FN}$$"
   ]
  },
  {
   "cell_type": "markdown",
   "id": "dfbc20ac",
   "metadata": {},
   "source": [
    "Reemplazando los datos en las ecuacion de sensibilidad:\n",
    "$$0.6 =\\frac{TP}{500}$$\n",
    "$${0.6}\\times{500}=TP$$\n",
    "$$TP=300$$\n",
    "Por lo tanto:\n",
    "$$FN + TP = 500$$\n",
    "$$FN=200$$\n",
    "Reemplazando en la formula de Accuracy tenemos:\n",
    "$$0.7 =\\frac{(30+TN)}{1000}$$\n",
    "$$TN = 400$$\n",
    "$$FP = 100$$\n",
    "Con esos valores procedemos a crearla matriz"
   ]
  },
  {
   "cell_type": "code",
   "execution_count": 109,
   "id": "2523145c",
   "metadata": {},
   "outputs": [
    {
     "name": "stdout",
     "output_type": "stream",
     "text": [
      "Verdaderos positivos TP: 300.0\n",
      "Falsos negativos FN: 200.0\n",
      "Verdaderos negativos TN: 400.0\n",
      "Falsos positivos FP: 100.0\n"
     ]
    }
   ],
   "source": [
    "acc=0.7\n",
    "sensi=0.6\n",
    "TP=(500*sensi)\n",
    "print('Verdaderos positivos TP:',TP)\n",
    "FN=(500-TP)\n",
    "print('Falsos negativos FN:',FN)\n",
    "TN=(acc*1000)-TP\n",
    "print('Verdaderos negativos TN:',TN)\n",
    "FP=(500-TN)\n",
    "print('Falsos positivos FP:',FP)"
   ]
  },
  {
   "cell_type": "code",
   "execution_count": 155,
   "id": "1f8f189c",
   "metadata": {},
   "outputs": [
    {
     "data": {
      "text/plain": [
       "array([[100, 200],\n",
       "       [400, 300]], dtype=int64)"
      ]
     },
     "execution_count": 155,
     "metadata": {},
     "output_type": "execute_result"
    }
   ],
   "source": [
    "from sklearn.metrics import confusion_matrix\n",
    "cm=confusion_matrix([1]*int(TP)+[0]*int(FP)+[0]*int(FN)+[1]*int(TN),[1]*500+[0]*500)\n",
    "cm"
   ]
  },
  {
   "cell_type": "code",
   "execution_count": 156,
   "id": "e5d0efcf",
   "metadata": {},
   "outputs": [
    {
     "data": {
      "image/png": "[encoded data removed]",
      "text/plain": [
       "<Figure size 400x400 with 2 Axes>"
      ]
     },
     "metadata": {},
     "output_type": "display_data"
    }
   ],
   "source": [
    "plt.figure(figsize=(4,4))\n",
    "sns.heatmap(cm, annot=True, fmt='g', cmap='Set3', xticklabels=['False','True'], yticklabels=['False','True'])\n",
    "plt.title('Matriz de Confusión')\n",
    "plt.xlabel('Predicted Values')\n",
    "plt.ylabel('True Values')\n",
    "plt.show()"
   ]
  },
  {
   "cell_type": "markdown",
   "id": "15312454",
   "metadata": {},
   "source": [
    "# Solucion Ejercicio 3"
   ]
  },
  {
   "cell_type": "markdown",
   "id": "b5a418fe",
   "metadata": {},
   "source": [
    "Segun entiendo, si se tiene la matriz de confusión, con los valores y sin conocer previamente los valores verdaderos y predichos no es posible obtener estos valores, por lo que este punto se realizaria con solo formulas, sin embargo me gustaria validar que esto es correcto."
   ]
  }
 ],
 "metadata": {
  "kernelspec": {
   "display_name": "Python 3 (ipykernel)",
   "language": "python",
   "name": "python3"
  },
  "language_info": {
   "codemirror_mode": {
    "name": "ipython",
    "version": 3
   },
   "file_extension": ".py",
   "mimetype": "text/x-python",
   "name": "python",
   "nbconvert_exporter": "python",
   "pygments_lexer": "ipython3",
   "version": "3.11.5"
  }
 },
 "nbformat": 4,
 "nbformat_minor": 5
}
